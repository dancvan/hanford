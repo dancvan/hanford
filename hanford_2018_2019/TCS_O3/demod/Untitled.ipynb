{
 "cells": [
  {
   "cell_type": "code",
   "execution_count": 3,
   "metadata": {},
   "outputs": [],
   "source": [
    "import scipy\n",
    "import numpy as np\n",
    "import matplotlib.pyplot as plt\n",
    "import nds2"
   ]
  },
  {
   "cell_type": "code",
   "execution_count": 4,
   "metadata": {},
   "outputs": [],
   "source": [
    "def demod_OMC_SUM_OUT_line(t_start, t_end, freq, phi, low_pass_order=2, low_pass_Wn=0.01, down_fac=256):\n",
    "    print('Making NDS3 connection...')\n",
    "    conn = nds2.connection('h1nds1', 8088)\n",
    "    nmin = lambda x: int(x - (x%60))\n",
    "    t_start = nmin(t_start)\n",
    "    t_end = nmin(t_end)\n",
    "\n",
    "    # ~~~~ Get the data ~~~~~\n",
    "    tic = timeit.default_timer()\n",
    "    print('Fetching data...')\n",
    "    data = conn.fetch(t_start, t_end, ['H1:OMC-DCPD_SUM_OUT_DQ'])\n",
    "    data2 = conn.fetch(t_start, t_end, ['H1:PSL-POWER_SCALE_OFFSET.mean,s-trend', 'H1:GRD-ISC_LOCK_STATE_N.mean,s-trend', 'H1:TCS-ITMY_CO2_LSRPWR_MTR_OUTPUT.mean,s-trend'])\n",
    "    toc = timeit.default_timer() - tic\n",
    "    print('Got data: Elapsed time = ' + str(round(toc,1)) + ' s')\n",
    "   \n",
    "    f_s = int(data[0].sample_rate)\n",
    "    lpsos = sig.butter(low_pass_order, low_pass_Wn, btype='lowpass', fs=int(f_s/down_fac), output='sos')\n",
    "    y = data[0].data\n",
    "    a = 1\n",
    "    b = y.shape[0]\n",
    "\n",
    "    t  = np.linspace(0, b/f_s, b) # sampled time\n",
    "    tt = np.linspace(0, b/(f_s), int(b/down_fac)) # downampled time\n",
    "    IQ = np.zeros(int(b/down_fac), dtype=complex)\n",
    "\n",
    "    lo = np.exp(1j * (2 * np.pi * freq * t + np.pi/180*phi))   # the local osc\n",
    "    x = y * lo                                # the mixer\n",
    "    x = sig.decimate(x, down_fac, ftype='fir', zero_phase=True)  # lowpass / downsample\n",
    "    IQ = sig.sosfilt(lpsos, x)   # more low pass\n",
    "   \n",
    "    tP, P, S, CO2 = np.arange(len(data2[0].data)), data2[0].data, data2[1].data, data2[2].data\n",
    "   \n",
    "    return tt, IQ, tP, P, S, CO2"
   ]
  },
  {
   "cell_type": "code",
   "execution_count": null,
   "metadata": {},
   "outputs": [],
   "source": [
    "[tt, IQ, PSL_pow, GRD, CO2_pow] = demod_OMC_SUM_OUT_line()"
   ]
  }
 ],
 "metadata": {
  "kernelspec": {
   "display_name": "Python 2",
   "language": "python",
   "name": "python2"
  },
  "language_info": {
   "codemirror_mode": {
    "name": "ipython",
    "version": 2
   },
   "file_extension": ".py",
   "mimetype": "text/x-python",
   "name": "python",
   "nbconvert_exporter": "python",
   "pygments_lexer": "ipython2",
   "version": "2.7.13"
  }
 },
 "nbformat": 4,
 "nbformat_minor": 2
}
