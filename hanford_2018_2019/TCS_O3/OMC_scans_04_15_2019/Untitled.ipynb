{
 "cells": [
  {
   "cell_type": "code",
   "execution_count": 15,
   "metadata": {},
   "outputs": [],
   "source": [
    "%matplotlib inline\n",
    "\n",
    "import numpy as np\n",
    "import matplotlib.pylab as plt\n",
    "import nds2 \n",
    "from astropy.time import Time\n",
    "import time\n",
    "import timeit\n",
    "import sys\n",
    "import scipy.signal as sig\n",
    "from get_scan_coords import *\n",
    "sys.path.append('hoak/')\n",
    "import h5py"
   ]
  },
  {
   "cell_type": "code",
   "execution_count": 16,
   "metadata": {},
   "outputs": [],
   "source": [
    "# Measurment 1 data\n",
    "h5f2 = h5py.File('meas2.h5','r')\n",
    "names = h5f1.keys()\n",
    "sample_rates = []\n",
    "sample_rates = [h5f1[names[i]].attrs['sample_rate'] for i in range(0,len(names))]\n",
    "PSL = h5f1[names[0]]\n",
    "DCPD = h5f1[names[1]]\n",
    "PZT = h5f1[names[2]]\n",
    "CO2X = h5f1[names[3]]\n",
    "HWSX = h5f1[names[4]]\n",
    "CO2Y = h5f1[names[5]]\n",
    "HWSY = h5f1[names[6]]"
   ]
  },
  {
   "cell_type": "code",
   "execution_count": 17,
   "metadata": {},
   "outputs": [
    {
     "name": "stdout",
     "output_type": "stream",
     "text": [
      "16.0\n"
     ]
    }
   ],
   "source": [
    "#time series\n",
    "f_s = sample_rates[0]\n",
    "b = len(PSL)\n",
    "t  = np.linspace(0, float(b)/float(f_s), b)\n",
    "print(f_s)"
   ]
  },
  {
   "cell_type": "code",
   "execution_count": 18,
   "metadata": {},
   "outputs": [
    {
     "data": {
      "text/plain": [
       "[<matplotlib.lines.Line2D at 0x7f89e90e0cd0>]"
      ]
     },
     "execution_count": 18,
     "metadata": {},
     "output_type": "execute_result"
    },
    {
     "data": {
      "image/png": "[encoded data removed]",
      "text/plain": [
       "<matplotlib.figure.Figure at 0x7f89a5e1b650>"
      ]
     },
     "metadata": {
      "needs_background": "light"
     },
     "output_type": "display_data"
    }
   ],
   "source": [
    "plt.plot(t,PSL)"
   ]
  },
  {
   "cell_type": "code",
   "execution_count": null,
   "metadata": {},
   "outputs": [],
   "source": []
  }
 ],
 "metadata": {
  "kernelspec": {
   "display_name": "Python 2",
   "language": "python",
   "name": "python2"
  },
  "language_info": {
   "codemirror_mode": {
    "name": "ipython",
    "version": 2
   },
   "file_extension": ".py",
   "mimetype": "text/x-python",
   "name": "python",
   "nbconvert_exporter": "python",
   "pygments_lexer": "ipython2",
   "version": "2.7.13"
  }
 },
 "nbformat": 4,
 "nbformat_minor": 2
}
