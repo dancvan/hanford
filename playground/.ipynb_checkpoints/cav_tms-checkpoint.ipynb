{
 "cells": [
  {
   "cell_type": "code",
   "execution_count": 1,
   "metadata": {},
   "outputs": [],
   "source": [
    "import numpy as np \n",
    "import numpy.linalg as LA\n",
    "import matplotlib.pyplot as plt\n",
    "import sys\n",
    "sys.path.append('/Users/daniel_vander-hyde/Documents/git/playground/optimoe')\n",
    "import optimoe.tr_mat as opt_tools\n",
    "from optimoe.tr_mat import *\n",
    "import scipy.io as sio"
   ]
  },
  {
   "cell_type": "code",
   "execution_count": 3,
   "metadata": {},
   "outputs": [],
   "source": [
    "#PRC params\n",
    "PRC_data = sio.loadmat('/Users/daniel_vander-hyde/Documents/MATLAB/PRC_rtgp_with_lensing/inputBeamParams.mat')"
   ]
  },
  {
   "cell_type": "code",
   "execution_count": 8,
   "metadata": {},
   "outputs": [],
   "source": [
    "#Length vars\n",
    "L_Mto2 = opt_tools.space(PRC_data['LPRM'])\n",
    "L_2to3 = opt_tools.space(PRC_data['LPR2'])\n",
    "L_3toITM = opt_tools.space(PRC_data['LPR3'])\n",
    "L_3toBS = opt_tools.space(19.538)"
   ]
  },
  {
   "cell_type": "code",
   "execution_count": null,
   "metadata": {},
   "outputs": [],
   "source": [
    "#Mirror vars\n",
    "fITM = PRC_data['fITM']\n",
    "cmirror_PR2 = cmirror_matrix(RPR2); \n",
    "cmirror_PR3 = cmirror_matrix(RPR3);\n",
    "#lens_ITM = lens_matrix(fITM_tot);\n",
    "lens_ITM_cold = lens_matrix(fITM);\n",
    "cmirror_PRM = cmirror_matrix(RPRM);\n",
    "cmirror_ITM = cmirror_matrix(-RITM);"
   ]
  },
  {
   "cell_type": "code",
   "execution_count": null,
   "metadata": {},
   "outputs": [],
   "source": []
  },
  {
   "cell_type": "code",
   "execution_count": null,
   "metadata": {},
   "outputs": [],
   "source": []
  }
 ],
 "metadata": {
  "kernelspec": {
   "display_name": "Python 3",
   "language": "python",
   "name": "python3"
  },
  "language_info": {
   "codemirror_mode": {
    "name": "ipython",
    "version": 3
   },
   "file_extension": ".py",
   "mimetype": "text/x-python",
   "name": "python",
   "nbconvert_exporter": "python",
   "pygments_lexer": "ipython3",
   "version": "3.6.5"
  }
 },
 "nbformat": 4,
 "nbformat_minor": 2
}
