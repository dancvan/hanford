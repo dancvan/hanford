{
 "cells": [
  {
   "cell_type": "code",
   "execution_count": 11,
   "metadata": {},
   "outputs": [],
   "source": [
    "import numpy as np \n",
    "import numpy.linalg as LA\n",
    "import matplotlib.pyplot as plt\n",
    "import sys\n",
    "sys.path.append('/Users/daniel_vander-hyde/Documents/git/playground/cust_python')\n",
    "import optimoe.tr_mat as opt\n",
    "from optimoe.tr_mat import *\n",
    "import scipy.io as sio\n",
    "import scipy.signal as sig"
   ]
  },
  {
   "cell_type": "code",
   "execution_count": 12,
   "metadata": {},
   "outputs": [],
   "source": [
    "#PRC params (imported from .mat file)\n",
    "PRC_data = sio.loadmat('/Users/daniel_vander-hyde/Documents/MATLAB/PRC_rtgp_with_lensing/inputBeamParams.mat')"
   ]
  },
  {
   "cell_type": "code",
   "execution_count": 22,
   "metadata": {},
   "outputs": [
    {
     "data": {
      "text/plain": [
       "{'__header__': b'MATLAB 5.0 MAT-file, Platform: GLNXA64, Created on: Fri Sep 30 21:17:21 2016',\n",
       " '__version__': '1.0',\n",
       " '__globals__': [],\n",
       " 'IMC': array([[(array([[1.064e-06]]), array([[0.2325+13.38321221j]]), array([[4]], dtype=uint8), array([[16.2406, 16.2406,  0.2325,  0.2325,  0.    ]]), array([[0.07313684, 0.        , 0.        , 0.        ]]), array([[array(['MC2'], dtype='<U3'), array(['MC3'], dtype='<U3'),\n",
       "         array(['Waist'], dtype='<U5'), array(['MC1'], dtype='<U3')]],\n",
       "       dtype=object), array([[50]], dtype=uint8))]],\n",
       "       dtype=[('lambda', 'O'), ('q', 'O'), ('N', 'O'), ('dist', 'O'), ('ifoc', 'O'), ('label', 'O'), ('Pin', 'O')]),\n",
       " 'n': array([[1.44963]]),\n",
       " 'epsilon3': array([[-0.0124833]]),\n",
       " 'epsilon4': array([[0.03121929]]),\n",
       " 'PeriscopeToViewport': array([[2.71]]),\n",
       " 'f1': array([[9099451]], dtype=int32),\n",
       " 'c': array([[299792458]], dtype=int32),\n",
       " 'lambda': array([[1.064e-06]]),\n",
       " 'RPRM': array([[-11]], dtype=int16),\n",
       " 'RPR2': array([[-4.555]]),\n",
       " 'RPR3': array([[36]], dtype=uint8),\n",
       " 'RITM': array([[1939]], dtype=uint16),\n",
       " 'RETM': array([[2241.5]]),\n",
       " 'LPRM': array([[16.6128]]),\n",
       " 'LPR2': array([[16.1551]]),\n",
       " 'LPR3': array([[24.88797413]]),\n",
       " 'LPRC': array([[57.65587413]]),\n",
       " 'LARM': array([[3994.5]]),\n",
       " 'LIM4': array([[0.413]]),\n",
       " 'LIM3': array([[1.17]]),\n",
       " 'fITM': array([[-4312.43466851]]),\n",
       " 'fPRM': array([[24.46455975]]),\n",
       " 'IMCp': array([[(array([[1.064e-06]]), array([[0.2325+13.38321221j]]), array([[2]], dtype=uint8), array([[16.2406, 16.2406,  0.    ]]), array([[0.07313684, 0.        ]]), array([[array(['MC2'], dtype='<U3'), array(['MC3'], dtype='<U3')]],\n",
       "       dtype=object), array([[50]], dtype=uint8))]],\n",
       "       dtype=[('lambda', 'O'), ('q', 'O'), ('N', 'O'), ('dist', 'O'), ('ifoc', 'O'), ('label', 'O'), ('Pin', 'O')]),\n",
       " 'IM': array([[(array([[1.064e-06]]), array([[-0.2325+13.38321221j]]), array([[6]], dtype=uint8), array([[0.2325    , 0.55069374, 1.06130627, 1.1703    , 1.20711929,\n",
       "         0.413     , 0.        ]]), array([[ 0.        ,  0.        ,  0.15625   , -0.31987291,  0.        ,\n",
       "          0.04087545]]), array([[array(['Waist'], dtype='<U5'), array(['IM1'], dtype='<U3'),\n",
       "         array(['IM2'], dtype='<U3'), array(['IM3'], dtype='<U3'),\n",
       "         array(['IM4'], dtype='<U3'), array(['PRMlens'], dtype='<U7')]],\n",
       "       dtype=object), array([[50]], dtype=uint8))]],\n",
       "       dtype=[('lambda', 'O'), ('q', 'O'), ('N', 'O'), ('dist', 'O'), ('ifoc', 'O'), ('label', 'O'), ('Pin', 'O')]),\n",
       " 'PRC': array([[(array([[1.064e-06]]), array([[7.12281169+5.25513865j]]), array([[3]], dtype=uint8), array([[16.6128    , 16.1551    , 24.88797413,  0.        ]]), array([[-4.39077936e-01,  5.55555556e-02, -2.31887571e-04]]), array([[array(['PR2'], dtype='<U3'), array(['PR3'], dtype='<U3'),\n",
       "         array(['ITMlens'], dtype='<U7')]], dtype=object), array([[50]], dtype=uint8))]],\n",
       "       dtype=[('lambda', 'O'), ('q', 'O'), ('N', 'O'), ('dist', 'O'), ('ifoc', 'O'), ('label', 'O'), ('Pin', 'O')]),\n",
       " 'PRCr': array([[(array([[1.064e-06]]), array([[7.12281169+5.25513865j]]), array([[5]], dtype=uint8), array([[ 0.        ,  0.        , 24.88797413, 16.1551    , 16.6128    ,\n",
       "          0.        ]]), array([[-1.03145952e-03, -2.31887571e-04,  5.55555556e-02,\n",
       "         -4.39077936e-01, -1.81818182e-01]]), array([[array(['ITMback'], dtype='<U7'),\n",
       "         array(['ITMlensr'], dtype='<U8'), array(['PR3r'], dtype='<U4'),\n",
       "         array(['PR2r'], dtype='<U4'), array(['PRM'], dtype='<U3')]],\n",
       "       dtype=object), array([[50]], dtype=uint8))]],\n",
       "       dtype=[('lambda', 'O'), ('q', 'O'), ('N', 'O'), ('dist', 'O'), ('ifoc', 'O'), ('label', 'O'), ('Pin', 'O')]),\n",
       " 'PRCrt': array([[(array([[1.064e-06]]), array([[7.12281169+5.25513865j]]), array([[8]], dtype=uint8), array([[16.6128    , 16.1551    , 24.88797413,  0.        ,  0.        ,\n",
       "         24.88797413, 16.1551    , 16.6128    ,  0.        ]]), array([[-4.39077936e-01,  5.55555556e-02, -2.31887571e-04,\n",
       "         -1.03145952e-03, -2.31887571e-04,  5.55555556e-02,\n",
       "         -4.39077936e-01, -1.81818182e-01]]), array([[array(['PR2'], dtype='<U3'), array(['PR3'], dtype='<U3'),\n",
       "         array(['ITMlens'], dtype='<U7'), array(['ITMback'], dtype='<U7'),\n",
       "         array(['ITMlensr'], dtype='<U8'), array(['PR3r'], dtype='<U4'),\n",
       "         array(['PR2r'], dtype='<U4'), array(['PRM'], dtype='<U3')]],\n",
       "       dtype=object), array([[50]], dtype=uint8), array([[1, 1, 1, 1, 1, 1, 1, 1]], dtype=uint8), array([[0, 0, 0, 0, 0, 0, 0, 0, 0]], dtype=uint8))]],\n",
       "       dtype=[('lambda', 'O'), ('q', 'O'), ('N', 'O'), ('dist', 'O'), ('ifoc', 'O'), ('label', 'O'), ('Pin', 'O'), ('PTran', 'O'), ('micdis', 'O')]),\n",
       " 'INP': array([[(array([[1.064e-06]]), array([[-7.39309373+13.38321221j]]), array([[6]], dtype=uint8), array([[0.        , 2.71      , 4.018     , 0.2118    , 0.14      ,\n",
       "         0.2563    , 0.28949374]]), array([[0, 0, 0, 0, 0, 0]], dtype=uint8), array([[array(['PSLperiscope'], dtype='<U12'),\n",
       "         array(['INPUTViewPort'], dtype='<U13'),\n",
       "         array(['PeriscopeTop'], dtype='<U12'),\n",
       "         array(['PeriscopeBottom'], dtype='<U15'),\n",
       "         array(['Steer1'], dtype='<U6'), array(['Steer2'], dtype='<U6')]],\n",
       "       dtype=object), array([[50]], dtype=uint8))]],\n",
       "       dtype=[('lambda', 'O'), ('q', 'O'), ('N', 'O'), ('dist', 'O'), ('ifoc', 'O'), ('label', 'O'), ('Pin', 'O')])}"
      ]
     },
     "execution_count": 22,
     "metadata": {},
     "output_type": "execute_result"
    }
   ],
   "source": [
    "PRC_data"
   ]
  },
  {
   "cell_type": "code",
   "execution_count": 13,
   "metadata": {},
   "outputs": [],
   "source": [
    "#Length vars (also imported from .mat file)\n",
    "\n",
    "L_Mto2 = opt.space(PRC_data['LPRM'].astype('float'))\n",
    "L_2to3 = opt.space(PRC_data['LPR2'].astype('float'))\n",
    "L_3toITM = opt.space(PRC_data['LPR3'].astype('float'))\n",
    "L_3toBS = opt.space(19.538)"
   ]
  },
  {
   "cell_type": "code",
   "execution_count": 14,
   "metadata": {},
   "outputs": [
    {
     "name": "stdout",
     "output_type": "stream",
     "text": [
      "[[-4312.43466851]]\n"
     ]
    }
   ],
   "source": [
    "#Lens vars (some imported from .mat file, other information is from the alog)\n",
    "pow_CO2 = .8 #CO2 power\n",
    "o_n = 5 #order number\n",
    "#Taken from alog 43632\n",
    "alpha_CO2 = 25.0e-6 \n",
    "fITM = PRC_data['fITM']\n",
    "print(fITM)\n",
    "\n",
    "if pow_CO2 == 0:\n",
    "    fITM_tot =fITM\n",
    "else: \n",
    "    opt_pow_ITM = pow_CO2*alpha_CO2\n",
    "    fITM_therm = 1/opt_pow_ITM\n",
    "    fITM_tot = (fITM*fITM_therm)/(fITM + fITM_therm) "
   ]
  },
  {
   "cell_type": "code",
   "execution_count": 15,
   "metadata": {},
   "outputs": [],
   "source": [
    "#Mirror vars (imported from the .mat file)\n",
    "cmirror_PR2 = opt.cmirror(PRC_data['RPR2'].astype('float'))\n",
    "cmirror_PR3 = opt.cmirror(PRC_data['RPR3'].astype('float'))\n",
    "lens_ITM = opt.lens(fITM_tot)\n",
    "lens_ITM_cold = opt.lens(PRC_data['fITM'].astype('float'))\n",
    "cmirror_PRM = opt.cmirror(PRC_data['RPRM'].astype('float'))\n",
    "cmirror_ITM = opt.cmirror(-1*PRC_data['RITM'].astype('float'))"
   ]
  },
  {
   "cell_type": "code",
   "execution_count": 16,
   "metadata": {},
   "outputs": [],
   "source": [
    "PRC_RT_cold = cmirror_PRM*L_Mto2*cmirror_PR2*L_2to3*cmirror_PR3*L_3toITM*lens_ITM_cold*cmirror_ITM*lens_ITM_cold*L_3toITM* \\\n",
    "              cmirror_PR3*L_2to3*cmirror_PR2*L_Mto2 \n",
    "PRC_RT_hot = cmirror_PRM*L_Mto2*cmirror_PR2*L_2to3*cmirror_PR3*L_3toITM*lens_ITM*cmirror_ITM*lens_ITM*L_3toITM* \\\n",
    "             cmirror_PR3*L_2to3*cmirror_PR2*L_Mto2"
   ]
  },
  {
   "cell_type": "code",
   "execution_count": 18,
   "metadata": {},
   "outputs": [],
   "source": [
    "gp_cold = opt.rt_gouy(PRC_RT_cold.astype('float'))\n",
    "gp_hot = opt.rt_gouy(PRC_RT_hot.astype('float'))\n"
   ]
  },
  {
   "cell_type": "code",
   "execution_count": 21,
   "metadata": {},
   "outputs": [
    {
     "data": {
      "text/plain": [
       "50.09161245898397"
      ]
     },
     "execution_count": 21,
     "metadata": {},
     "output_type": "execute_result"
    }
   ],
   "source": [
    "gp_cold*180/(np.pi)"
   ]
  },
  {
   "cell_type": "code",
   "execution_count": 174,
   "metadata": {},
   "outputs": [],
   "source": [
    "FSR = 299792458/(2*(PRC_data['LPRC'][0][0]))\n",
    "freq = np.arange(FSR, 2.5*FSR, 1.5*FSR/100000)\n",
    "ind = range(len(freq))\n",
    "fines = 114.0\n",
    "nu_tms_cold = FSR*(gp_cold/(2*np.pi))\n",
    "nu_tms_hot = FSR*(gp_hot/(2*np.pi))"
   ]
  },
  {
   "cell_type": "code",
   "execution_count": 175,
   "metadata": {},
   "outputs": [],
   "source": [
    "# Power resonating in the cavity\n",
    "def P_circ(nu, fines, fsr, P_max=1): \n",
    "    P = P_max/((1 +pow((2.0*fines/np.pi),2)*pow(np.sin((np.pi*nu)/fsr),2)))\n",
    "    return P"
   ]
  },
  {
   "cell_type": "code",
   "execution_count": 176,
   "metadata": {},
   "outputs": [],
   "source": [
    "P = [P_circ(i, fines, FSR) for i in freq] \n",
    "P_HOM_cold = [P_circ(i, fines, FSR + o_n*nu_tms_cold) for i in freq]\n",
    "P_HOM_hot = [P_circ(i, fines, FSR + o_n*nu_tms_hot) for i in freq]"
   ]
  },
  {
   "cell_type": "code",
   "execution_count": 177,
   "metadata": {},
   "outputs": [],
   "source": [
    "max_ind_cold = sig.find_peaks(P_HOM_cold)[0][0]\n",
    "max_ind_hot = sig.find_peaks(P_HOM_hot)[0][0]"
   ]
  },
  {
   "cell_type": "code",
   "execution_count": 178,
   "metadata": {},
   "outputs": [
    {
     "data": {
      "image/png": "[encoded data removed]",
      "text/plain": [
       "<Figure size 792x540 with 1 Axes>"
      ]
     },
     "metadata": {
      "needs_background": "light"
     },
     "output_type": "display_data"
    }
   ],
   "source": [
    "f = plt.figure(figsize=(11,7.5))\n",
    "plt.semilogy(freq,P,'c')\n",
    "#plt.semilogy(freq,P_HOM_cold,'r')\n",
    "plt.semilogy(freq[max_ind_cold],P[max_ind_cold],'b*')\n",
    "plt.semilogy(freq[max_ind_hot], P[max_ind_hot], 'r*')\n",
    "plt.annotate('({}, {})'.format(round(freq[max_ind_cold],1),round(P[max_ind_cold],5)), xy=(freq[max_ind_cold],P[max_ind_cold]))\n",
    "plt.annotate('({}, {})'.format(round(freq[max_ind_hot],1),round(P[max_ind_hot],5)), xy=(freq[max_ind_hot],P[max_ind_hot]))\n",
    "plt.title('PRC Transverse mode spacing (cold vs hot {} Watt CO2)'.format(pow_CO2))\n",
    "plt.xlabel('Frequency [Hz]')\n",
    "plt.ylabel('Circulating power')\n",
    "\n",
    "plt.legend(('FSR ({})'.format(FSR), '(m+n) = {} (cold)'.format(o_n), '(m+n) = {} (hot)'.format(o_n)), loc='best')\n",
    "\n",
    "plt.grid()\n",
    "plt.show()"
   ]
  },
  {
   "cell_type": "code",
   "execution_count": null,
   "metadata": {},
   "outputs": [],
   "source": [
    "f.savefig('cav_tms_out.pdf',bbox_inches='tight')"
   ]
  },
  {
   "cell_type": "code",
   "execution_count": null,
   "metadata": {},
   "outputs": [],
   "source": []
  }
 ],
 "metadata": {
  "kernelspec": {
   "display_name": "Python 3",
   "language": "python",
   "name": "python3"
  },
  "language_info": {
   "codemirror_mode": {
    "name": "ipython",
    "version": 3
   },
   "file_extension": ".py",
   "mimetype": "text/x-python",
   "name": "python",
   "nbconvert_exporter": "python",
   "pygments_lexer": "ipython3",
   "version": "3.6.7"
  }
 },
 "nbformat": 4,
 "nbformat_minor": 2
}
