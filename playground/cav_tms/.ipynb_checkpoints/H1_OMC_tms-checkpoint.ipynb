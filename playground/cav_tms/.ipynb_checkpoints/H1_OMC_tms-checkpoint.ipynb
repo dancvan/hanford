{
 "cells": [
  {
   "cell_type": "code",
   "execution_count": 1,
   "metadata": {},
   "outputs": [],
   "source": [
    "# H1 OMC"
   ]
  },
  {
   "cell_type": "code",
   "execution_count": 2,
   "metadata": {},
   "outputs": [],
   "source": [
    "import numpy as np\n",
    "import matplotlib.pyplot as plt "
   ]
  },
  {
   "cell_type": "code",
   "execution_count": 3,
   "metadata": {},
   "outputs": [],
   "source": [
    "# Initial Koji measurment (T1500060)\n",
    "FSR = 261710000\n",
    "TMS_pitch = .218827*FSR\n",
    "TMS_yaw = .219221*FSR\n",
    "gp_pitch = 2*np.pi*TMS_pitch\n",
    "gp_yaw = 2*np.pi*TMS_yaw\n",
    "fines = 375.7\n",
    "fines_err = .3"
   ]
  },
  {
   "cell_type": "code",
   "execution_count": 6,
   "metadata": {},
   "outputs": [],
   "source": [
    "# frequency vector \n",
    "freq = np.arange(FSR,2.5*FSR,1)"
   ]
  },
  {
   "cell_type": "code",
   "execution_count": 7,
   "metadata": {},
   "outputs": [],
   "source": [
    "# Power resonating in the cavity\n",
    "def P_circ(nu, fines, fsr, P_max=1): \n",
    "    P = P_max/((1 +pow((2.0*fines/np.pi),2)*pow(np.sin((np.pi*nu)/fsr),2)))\n",
    "    return P"
   ]
  },
  {
   "cell_type": "code",
   "execution_count": null,
   "metadata": {},
   "outputs": [],
   "source": [
    "o_n = 1\n",
    "P = [P_circ(i, fines, FSR) for i in freq] \n",
    "P_HOM_pitch = [P_circ(i, fines, FSR + o_n*TMS_pitch) for i in freq]\n",
    "P_HOM_yaw = [P_circ(i, fines, FSR + o_n*TMS_yaw) for i in freq]"
   ]
  },
  {
   "cell_type": "code",
   "execution_count": null,
   "metadata": {},
   "outputs": [],
   "source": [
    "max_ind_pitch = sig.find_peaks(P_HOM_pitch)[0][0]\n",
    "max_ind_yaw = sig.find_peaks(P_HOM_yaw)[0][0]"
   ]
  },
  {
   "cell_type": "code",
   "execution_count": null,
   "metadata": {},
   "outputs": [],
   "source": [
    "f = plt.figure(figsize=(11,7.5))\n",
    "plt.semilogy(freq,P,'c')\n",
    "#plt.semilogy(freq,P_HOM_cold,'r')\n",
    "plt.semilogy(freq[max_ind_cold],P[max_ind_cold],'b*')\n",
    "plt.semilogy(freq[max_ind_hot], P[max_ind_hot], 'r*')\n",
    "plt.annotate('({}, {})'.format(round(freq[max_ind_cold],1),round(P[max_ind_cold],5)), xy=(freq[max_ind_cold],P[max_ind_cold]))\n",
    "plt.annotate('({}, {})'.format(round(freq[max_ind_hot],1),round(P[max_ind_hot],5)), xy=(freq[max_ind_hot],P[max_ind_hot]))\n",
    "plt.title('PRC Transverse mode spacing (cold vs hot {} Watt CO2)'.format(pow_CO2))\n",
    "plt.xlabel('Frequency [Hz]')\n",
    "plt.ylabel('Circulating power')\n",
    "\n",
    "plt.legend(('FSR ({})'.format(FSR), '(m+n) = {} (cold)'.format(o_n), '(m+n) = {} (hot)'.format(o_n)), loc='best')\n",
    "\n",
    "plt.grid()\n",
    "plt.show()"
   ]
  }
 ],
 "metadata": {
  "kernelspec": {
   "display_name": "Python 3",
   "language": "python",
   "name": "python3"
  },
  "language_info": {
   "codemirror_mode": {
    "name": "ipython",
    "version": 3
   },
   "file_extension": ".py",
   "mimetype": "text/x-python",
   "name": "python",
   "nbconvert_exporter": "python",
   "pygments_lexer": "ipython3",
   "version": "3.6.7"
  }
 },
 "nbformat": 4,
 "nbformat_minor": 2
}
