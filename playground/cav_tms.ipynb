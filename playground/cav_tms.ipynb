{
 "cells": [
  {
   "cell_type": "code",
   "execution_count": 4,
   "metadata": {},
   "outputs": [],
   "source": [
    "import numpy as np \n",
    "import numpy.linalg as LA\n",
    "import matplotlib.pyplot as plt\n",
    "import sys\n",
    "sys.path.append('/Users/daniel_vander-hyde/Documents/git/playground/optimoe')\n",
    "import optimoe.tr_mat as opt\n",
    "from optimoe.tr_mat import *\n",
    "import scipy.io as sio"
   ]
  },
  {
   "cell_type": "code",
   "execution_count": 2,
   "metadata": {},
   "outputs": [],
   "source": [
    "#PRC params\n",
    "PRC_data = sio.loadmat('/Users/daniel_vander-hyde/Documents/MATLAB/PRC_rtgp_with_lensing/inputBeamParams.mat')"
   ]
  },
  {
   "cell_type": "code",
   "execution_count": 5,
   "metadata": {},
   "outputs": [],
   "source": [
    "#Length vars\n",
    "L_Mto2 = opt.space(PRC_data['LPRM'])\n",
    "L_2to3 = opt.space(PRC_data['LPR2'])\n",
    "L_3toITM = opt.space(PRC_data['LPR3'])\n",
    "L_3toBS = opt.space(19.538)"
   ]
  },
  {
   "cell_type": "code",
   "execution_count": 37,
   "metadata": {},
   "outputs": [],
   "source": [
    "#Mirror vars\n",
    "fITM = PRC_data['fITM']\n",
    "cmirror_PR2 = opt.cmirror(PRC_data['RPR2']); \n",
    "cmirror_PR3 = opt.cmirror(PRC_data['RPR3']);\n",
    "#lens_ITM = lens_matrix(fITM_tot);\n",
    "lens_ITM_cold = opt.lens(PRC_data['fITM']);\n",
    "cmirror_PRM = opt.cmirror(PRC_data['RPRM']);\n",
    "cmirror_ITM = opt.cmirror(-1*PRC_data['RITM']);"
   ]
  },
  {
   "cell_type": "code",
   "execution_count": 39,
   "metadata": {},
   "outputs": [],
   "source": [
    "PRC_RT_cold = cmirror_PRM*L_Mto2*cmirror_PR2*L_2to3*cmirror_PR3*L_3toITM*lens_ITM_cold*cmirror_ITM*lens_ITM_cold*L_3toITM*cmirror_PR3*L_2to3*cmirror_PR2*L_Mto2 "
   ]
  },
  {
   "cell_type": "code",
   "execution_count": 45,
   "metadata": {},
   "outputs": [
    {
     "data": {
      "text/plain": [
       "0.8742635650422661"
      ]
     },
     "execution_count": 45,
     "metadata": {},
     "output_type": "execute_result"
    }
   ],
   "source": [
    "gp_cold = opt.rt_gouy(PRC_RT_cold)\n",
    "gp_cold"
   ]
  },
  {
   "cell_type": "code",
   "execution_count": null,
   "metadata": {},
   "outputs": [],
   "source": []
  },
  {
   "cell_type": "code",
   "execution_count": null,
   "metadata": {},
   "outputs": [],
   "source": []
  }
 ],
 "metadata": {
  "kernelspec": {
   "display_name": "Python 3",
   "language": "python",
   "name": "python3"
  },
  "language_info": {
   "codemirror_mode": {
    "name": "ipython",
    "version": 3
   },
   "file_extension": ".py",
   "mimetype": "text/x-python",
   "name": "python",
   "nbconvert_exporter": "python",
   "pygments_lexer": "ipython3",
   "version": "3.6.5"
  }
 },
 "nbformat": 4,
 "nbformat_minor": 2
}
